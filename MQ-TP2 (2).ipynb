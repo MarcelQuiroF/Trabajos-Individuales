{
 "cells": [
  {
   "cell_type": "code",
   "execution_count": 4,
   "id": "f016425c-61e6-42ee-bcae-d2edcfb48ef1",
   "metadata": {},
   "outputs": [
    {
     "name": "stdin",
     "output_type": "stream",
     "text": [
      "------------------------------------\n",
      "Seleccione la opcion requerida:\n",
      "1. Listar empleados actuales\n",
      "2. Agregar empleados\n",
      "3. Borrar empleados\n",
      "4. Cerrar Programa\n",
      " 2\n",
      "Escriba la cantidad a añadir:  2\n",
      "Introduzca el nombre:  Miguel\n",
      "Introduzca el edad:  30\n",
      "Introduzca el salario:  3000\n",
      "Introduzca el nombre:  Marco\n",
      "Introduzca el edad:  23\n",
      "Introduzca el salario:  4312\n"
     ]
    },
    {
     "name": "stdout",
     "output_type": "stream",
     "text": [
      "Se añadio a los nuevos empleados\n"
     ]
    },
    {
     "name": "stdin",
     "output_type": "stream",
     "text": [
      "------------------------------------\n",
      "Seleccione la opcion requerida:\n",
      "1. Listar empleados actuales\n",
      "2. Agregar empleados\n",
      "3. Borrar empleados\n",
      "4. Cerrar Programa\n",
      " 1\n"
     ]
    },
    {
     "name": "stdout",
     "output_type": "stream",
     "text": [
      "Nombre: Miguel\n",
      "Edad: 30\n",
      "Salario: 3000\n",
      "\n",
      "Nombre: Marco\n",
      "Edad: 23\n",
      "Salario: 4312\n",
      "\n"
     ]
    },
    {
     "name": "stdin",
     "output_type": "stream",
     "text": [
      "------------------------------------\n",
      "Seleccione la opcion requerida:\n",
      "1. Listar empleados actuales\n",
      "2. Agregar empleados\n",
      "3. Borrar empleados\n",
      "4. Cerrar Programa\n",
      " 3\n"
     ]
    },
    {
     "name": "stdout",
     "output_type": "stream",
     "text": [
      "1.  Miguel\n",
      "2.  Marco\n"
     ]
    },
    {
     "name": "stdin",
     "output_type": "stream",
     "text": [
      "Ingrese el numero del empleado:  2\n",
      "------------------------------------\n",
      "Seleccione la opcion requerida:\n",
      "1. Listar empleados actuales\n",
      "2. Agregar empleados\n",
      "3. Borrar empleados\n",
      "4. Cerrar Programa\n",
      " 1\n"
     ]
    },
    {
     "name": "stdout",
     "output_type": "stream",
     "text": [
      "Nombre: Miguel\n",
      "Edad: 30\n",
      "Salario: 3000\n",
      "\n"
     ]
    },
    {
     "name": "stdin",
     "output_type": "stream",
     "text": [
      "------------------------------------\n",
      "Seleccione la opcion requerida:\n",
      "1. Listar empleados actuales\n",
      "2. Agregar empleados\n",
      "3. Borrar empleados\n",
      "4. Cerrar Programa\n",
      " 4\n"
     ]
    }
   ],
   "source": [
    "#Gestión de Empleados\n",
    "empleados = []\n",
    "while True:\n",
    "    Seleccion = int(input(\"\"\"------------------------------------\n",
    "Seleccione la opcion requerida:\n",
    "1. Listar empleados actuales\n",
    "2. Agregar empleados\n",
    "3. Borrar empleados\n",
    "4. Cerrar Programa\n",
    "\"\"\"))\n",
    "    if Seleccion == 1: \n",
    "        for p in empleados:\n",
    "            print(f\"\"\"Nombre: {p[\"Nombre\"]}\n",
    "Edad: {p[\"Edad\"]}\n",
    "Salario: {p[\"Salario\"]}\n",
    "\"\"\")\n",
    "    if Seleccion == 2:\n",
    "        Cantidad = int(input(\"Escriba la cantidad a añadir: \"))\n",
    "        for i in range(0, Cantidad):\n",
    "            empleado_nuevo = {\"Nombre\":None, \"Edad\":None, \"Salario\":None}\n",
    "            empleado_nuevo[\"Nombre\"] = input(\"Introduzca el nombre: \")\n",
    "            empleado_nuevo[\"Edad\"] = input(\"Introduzca el edad: \")\n",
    "            empleado_nuevo[\"Salario\"] = input(\"Introduzca el salario: \")\n",
    "            empleados.append(empleado_nuevo)\n",
    "        print(\"Se añadio a los nuevos empleados\")\n",
    "    if Seleccion == 3:\n",
    "        indice = 0\n",
    "        for empleado in empleados:\n",
    "            print(f\"{indice+1}. \", empleado[\"Nombre\"])\n",
    "            indice += 1 \n",
    "        empleado_eliminar = int(input(\"Ingrese el numero del empleado: \"))\n",
    "        del empleados[empleado_eliminar-1]\n",
    "    if Seleccion == 4:\n",
    "        break"
   ]
  },
  {
   "cell_type": "code",
   "execution_count": 9,
   "id": "98a33e72-c6ca-4ca4-8256-8929afaed45d",
   "metadata": {},
   "outputs": [
    {
     "name": "stdin",
     "output_type": "stream",
     "text": [
      "------------------------------------\n",
      "Seleccione la opcion requerida:\n",
      "1. Registrar una venta\n",
      "2. Ventas del dia\n",
      "3. Ver ventas semanales\n",
      "4. Cerrar Programa\n",
      " 1\n",
      "Escriba la cantidad de cuantos montos que se dio en una venta quiere registrar:  1\n",
      "Escribas las cantidades, una por una:  23\n",
      "------------------------------------\n",
      "Seleccione la opcion requerida:\n",
      "1. Registrar una venta\n",
      "2. Ventas del dia\n",
      "3. Ver ventas semanales\n",
      "4. Cerrar Programa\n",
      " 2\n"
     ]
    },
    {
     "name": "stdout",
     "output_type": "stream",
     "text": [
      "El total vendido este dia fue 23, en 1 ventas\n"
     ]
    },
    {
     "name": "stdin",
     "output_type": "stream",
     "text": [
      "Escriba el numero de opcion\n",
      "1.Reiniciar cantidad y monto diario\n",
      "2.Continuar dia\n",
      " 2\n",
      "------------------------------------\n",
      "Seleccione la opcion requerida:\n",
      "1. Registrar una venta\n",
      "2. Ventas del dia\n",
      "3. Ver ventas semanales\n",
      "4. Cerrar Programa\n",
      " 3\n"
     ]
    },
    {
     "name": "stdout",
     "output_type": "stream",
     "text": [
      "El total vendido este dia fue 0, en un promedio de 0.0 ventas diarias\n"
     ]
    },
    {
     "name": "stdin",
     "output_type": "stream",
     "text": [
      "Escriba el numero de opcion\n",
      "1.Reiniciar cantidad y monto semanal\n",
      "2.Continuar semana\n",
      " 2\n",
      "------------------------------------\n",
      "Seleccione la opcion requerida:\n",
      "1. Registrar una venta\n",
      "2. Ventas del dia\n",
      "3. Ver ventas semanales\n",
      "4. Cerrar Programa\n",
      " 4\n"
     ]
    }
   ],
   "source": [
    "#REGISTRO DE VENTAS\n",
    "ventas_diarias = 0\n",
    "cantidad_diaria = 0\n",
    "cantidad_semanales = 0\n",
    "ventas_semanales = 0\n",
    "while True:\n",
    "    Seleccion = int(input(\"\"\"------------------------------------\n",
    "Seleccione la opcion requerida:\n",
    "1. Registrar una venta\n",
    "2. Ventas del dia\n",
    "3. Ver ventas semanales\n",
    "4. Cerrar Programa\n",
    "\"\"\"))\n",
    "    if Seleccion == 1:\n",
    "        ventas = 0\n",
    "        cantidad = int(input(\"Escriba la cantidad de cuantos montos que se dio en una venta quiere registrar: \"))\n",
    "        for i in range(0, cantidad):\n",
    "            ventas += int(input(\"Escribas las cantidades, una por una: \"))\n",
    "        ventas_diarias += ventas\n",
    "        cantidad_diaria += 1\n",
    "    if Seleccion == 2:\n",
    "        print(f\"El total vendido este dia fue {ventas_diarias}, en {cantidad_diaria} ventas\")\n",
    "        seleccion = int(input(\"\"\"Escriba el numero de opcion\n",
    "1.Reiniciar cantidad y monto diario\n",
    "2.Continuar dia\n",
    "\"\"\"))\n",
    "        if seleccion == 1:\n",
    "            ventas_semanales += ventas_diarias\n",
    "            cantidad_semanales += cantidad_diaria\n",
    "            cantidad_diaria = 0\n",
    "            ventas_diarias = 0\n",
    "    if Seleccion == 3:\n",
    "        print(f\"El total vendido este dia fue {ventas_semanales}, en un promedio de {ventas_semanales/7} ventas diarias\")\n",
    "        Seleccion = int(input(\"\"\"Escriba el numero de opcion\n",
    "1.Reiniciar cantidad y monto semanal\n",
    "2.Continuar semana\n",
    "\"\"\"))\n",
    "        if seleccion == 1:\n",
    "            ventas_semanales = 0\n",
    "            cantidad_semanales = 0\n",
    "    if Seleccion == 4:\n",
    "        break"
   ]
  },
  {
   "cell_type": "code",
   "execution_count": 13,
   "id": "946a88a8-1756-45bf-8568-859ca69005c1",
   "metadata": {},
   "outputs": [
    {
     "name": "stdin",
     "output_type": "stream",
     "text": [
      "------------------------------------\n",
      "Seleccione la opcion requerida:\n",
      "1. Agregar un nuevo producto\n",
      "2. Actualizar la cantidad de un producto\n",
      "3. Eliminar un producto del inventario\n",
      "4. Listar productos\n",
      "5. Cerrar Programa\n",
      " 1\n",
      "Escriba cuantos productos desea añadir a la lista del inventario:  1\n",
      "Introduzca el nombre del producto:  Banana\n",
      "Introduzca la cantidad:  33\n"
     ]
    },
    {
     "name": "stdout",
     "output_type": "stream",
     "text": [
      "Se añadio a los nuevos productos\n"
     ]
    },
    {
     "name": "stdin",
     "output_type": "stream",
     "text": [
      "------------------------------------\n",
      "Seleccione la opcion requerida:\n",
      "1. Agregar un nuevo producto\n",
      "2. Actualizar la cantidad de un producto\n",
      "3. Eliminar un producto del inventario\n",
      "4. Listar productos\n",
      "5. Cerrar Programa\n",
      " 2\n"
     ]
    },
    {
     "name": "stdout",
     "output_type": "stream",
     "text": [
      "1. Banana\n"
     ]
    },
    {
     "name": "stdin",
     "output_type": "stream",
     "text": [
      "Selecciona el numero del producto:  1\n",
      "Escribe la nueva cantidad:  23\n",
      "------------------------------------\n",
      "Seleccione la opcion requerida:\n",
      "1. Agregar un nuevo producto\n",
      "2. Actualizar la cantidad de un producto\n",
      "3. Eliminar un producto del inventario\n",
      "4. Listar productos\n",
      "5. Cerrar Programa\n",
      " 4\n"
     ]
    },
    {
     "name": "stdout",
     "output_type": "stream",
     "text": [
      "Cantidad de 23 Banana\n"
     ]
    },
    {
     "name": "stdin",
     "output_type": "stream",
     "text": [
      "------------------------------------\n",
      "Seleccione la opcion requerida:\n",
      "1. Agregar un nuevo producto\n",
      "2. Actualizar la cantidad de un producto\n",
      "3. Eliminar un producto del inventario\n",
      "4. Listar productos\n",
      "5. Cerrar Programa\n",
      " 3\n"
     ]
    },
    {
     "name": "stdout",
     "output_type": "stream",
     "text": [
      "1. Banana\n"
     ]
    },
    {
     "name": "stdin",
     "output_type": "stream",
     "text": [
      "Selecciona el numero del producto:  1\n",
      "------------------------------------\n",
      "Seleccione la opcion requerida:\n",
      "1. Agregar un nuevo producto\n",
      "2. Actualizar la cantidad de un producto\n",
      "3. Eliminar un producto del inventario\n",
      "4. Listar productos\n",
      "5. Cerrar Programa\n",
      " 4\n",
      "------------------------------------\n",
      "Seleccione la opcion requerida:\n",
      "1. Agregar un nuevo producto\n",
      "2. Actualizar la cantidad de un producto\n",
      "3. Eliminar un producto del inventario\n",
      "4. Listar productos\n",
      "5. Cerrar Programa\n",
      " 5\n"
     ]
    }
   ],
   "source": [
    "#CONTROL DE INVENTARIO\n",
    "inventario = []\n",
    "while True:\n",
    "    Seleccion = int(input(\"\"\"------------------------------------\n",
    "Seleccione la opcion requerida:\n",
    "1. Agregar un nuevo producto\n",
    "2. Actualizar la cantidad de un producto\n",
    "3. Eliminar un producto del inventario\n",
    "4. Listar productos\n",
    "5. Cerrar Programa\n",
    "\"\"\"))\n",
    "    if Seleccion == 1:\n",
    "        Cantidad = int(input(\"Escriba cuantos productos desea añadir a la lista del inventario: \"))\n",
    "        for i in range(0, Cantidad):\n",
    "            producto_nuevo = {\"Nombre\":None, \"Cantidad\":None}\n",
    "            producto_nuevo[\"Nombre\"] = input(\"Introduzca el nombre del producto: \")\n",
    "            producto_nuevo[\"Cantidad\"] = int(input(\"Introduzca la cantidad: \"))\n",
    "            inventario.append(producto_nuevo)\n",
    "        print(\"Se añadio a los nuevos productos\")\n",
    "    if Seleccion == 2:\n",
    "        indice = 0\n",
    "        for productos in inventario:\n",
    "            print(f\"{indice+1}.\", productos[\"Nombre\"])\n",
    "        Seleccion = int(input(\"Selecciona el numero del producto: \"))\n",
    "        if Seleccion == len(inventario):\n",
    "            inventario[Seleccion-1][\"Cantidad\"] = int(input(\"Escribe la nueva cantidad: \"))\n",
    "        else:\n",
    "            print(\"Ese no es un numero de producto disponible\")\n",
    "    if Seleccion == 3:\n",
    "        indice = 0\n",
    "        for productos in inventario:\n",
    "            print(f\"{indice+1}.\", productos[\"Nombre\"])\n",
    "        Seleccion = int(input(\"Selecciona el numero del producto: \"))\n",
    "        if Seleccion == len(inventario):\n",
    "            del inventario[Seleccion-1]\n",
    "        else:\n",
    "            print(\"Ese no es un numero de producto disponible\")\n",
    "    if Seleccion == 4:\n",
    "        for productos in inventario:\n",
    "            print(f\"\"\"Cantidad de {productos[\"Cantidad\"]} {productos[\"Nombre\"]}\"\"\") \n",
    "    if Seleccion == 5:\n",
    "        break"
   ]
  },
  {
   "cell_type": "code",
   "execution_count": 19,
   "id": "97942ea8-bba5-429b-bfde-2f2cd065aeaf",
   "metadata": {},
   "outputs": [
    {
     "name": "stdin",
     "output_type": "stream",
     "text": [
      "------------------------------------\n",
      "Seleccione la opcion requerida:\n",
      "1. Registrar una actividad\n",
      "2. Marcar como completada\n",
      "3. Actividades pendientes\n",
      "4. Actividades\n",
      "5. Cerrar programa\n",
      " 1\n",
      "Escriba cuantos actividades desea añadir:  2\n",
      "Introduzca el nombre de la actividad:  Deporte\n",
      "Introduzca la descripcion:  Nadar en el lago\n",
      "Introduzca la prioridad:  Alta\n",
      "Introduzca el estado:\n",
      "1.Completa\n",
      "2.Incompleta\n",
      " 2\n",
      "Introduzca el nombre de la actividad:  Lectura\n",
      "Introduzca la descripcion:  Leer mi libro\n",
      "Introduzca la prioridad:  Baja\n",
      "Introduzca el estado:\n",
      "1.Completa\n",
      "2.Incompleta\n",
      " 1\n"
     ]
    },
    {
     "name": "stdout",
     "output_type": "stream",
     "text": [
      "Se añadio las nuevas actividades\n"
     ]
    },
    {
     "name": "stdin",
     "output_type": "stream",
     "text": [
      "------------------------------------\n",
      "Seleccione la opcion requerida:\n",
      "1. Registrar una actividad\n",
      "2. Marcar como completada\n",
      "3. Actividades pendientes\n",
      "4. Actividades\n",
      "5. Cerrar programa\n",
      " 4\n"
     ]
    },
    {
     "name": "stdout",
     "output_type": "stream",
     "text": [
      "Nombre: Deporte \n",
      "            Descripcion: Nadar en el lago\n",
      "            Prioridad: Alta\n",
      "            Estado: Incompleta\n",
      "Nombre: Lectura \n",
      "            Descripcion: Leer mi libro\n",
      "            Prioridad: Baja\n",
      "            Estado: Completa\n"
     ]
    },
    {
     "name": "stdin",
     "output_type": "stream",
     "text": [
      "------------------------------------\n",
      "Seleccione la opcion requerida:\n",
      "1. Registrar una actividad\n",
      "2. Marcar como completada\n",
      "3. Actividades pendientes\n",
      "4. Actividades\n",
      "5. Cerrar programa\n",
      " 3\n"
     ]
    },
    {
     "name": "stdout",
     "output_type": "stream",
     "text": [
      "Nombre: Deporte Descripcion: Nadar en el lago Prioridad: Alta Estado: Incompleta\n"
     ]
    },
    {
     "name": "stdin",
     "output_type": "stream",
     "text": [
      "------------------------------------\n",
      "Seleccione la opcion requerida:\n",
      "1. Registrar una actividad\n",
      "2. Marcar como completada\n",
      "3. Actividades pendientes\n",
      "4. Actividades\n",
      "5. Cerrar programa\n",
      " 2\n"
     ]
    },
    {
     "name": "stdout",
     "output_type": "stream",
     "text": [
      "Actividad 1. {'Nombre': 'Deporte', 'Descripcion': 'Nadar en el lago', 'Prioridad': 'Alta', 'Estado': 'Incompleta'}\n"
     ]
    },
    {
     "name": "stdin",
     "output_type": "stream",
     "text": [
      "Selecciona el numero de la tarea:  1\n",
      "------------------------------------\n",
      "Seleccione la opcion requerida:\n",
      "1. Registrar una actividad\n",
      "2. Marcar como completada\n",
      "3. Actividades pendientes\n",
      "4. Actividades\n",
      "5. Cerrar programa\n",
      " 4\n"
     ]
    },
    {
     "name": "stdout",
     "output_type": "stream",
     "text": [
      "Nombre: Deporte \n",
      "            Descripcion: Nadar en el lago\n",
      "            Prioridad: Alta\n",
      "            Estado: Completa\n",
      "Nombre: Lectura \n",
      "            Descripcion: Leer mi libro\n",
      "            Prioridad: Baja\n",
      "            Estado: Completa\n"
     ]
    },
    {
     "name": "stdin",
     "output_type": "stream",
     "text": [
      "------------------------------------\n",
      "Seleccione la opcion requerida:\n",
      "1. Registrar una actividad\n",
      "2. Marcar como completada\n",
      "3. Actividades pendientes\n",
      "4. Actividades\n",
      "5. Cerrar programa\n",
      " 5\n"
     ]
    }
   ],
   "source": [
    "#SEGUIMIENTO DE ACTIVIDADES\n",
    "actividades = []\n",
    "incompletas = []\n",
    "indice = 0\n",
    "while True:\n",
    "    Seleccion = int(input(\"\"\"------------------------------------\n",
    "Seleccione la opcion requerida:\n",
    "1. Registrar una actividad\n",
    "2. Marcar como completada\n",
    "3. Actividades pendientes\n",
    "4. Actividades\n",
    "5. Cerrar programa\n",
    "\"\"\"))\n",
    "    if Seleccion == 1:\n",
    "        Cantidad = int(input(\"Escriba cuantos actividades desea añadir: \"))\n",
    "        for i in range(0, Cantidad):\n",
    "            actividad = {\"Nombre\":None, \"Descripcion\":None, \"Prioridad\":None, \"Estado\":None}\n",
    "            actividad[\"Nombre\"] = input(\"Introduzca el nombre de la actividad: \")\n",
    "            actividad[\"Descripcion\"] = input(\"Introduzca la descripcion: \")\n",
    "            actividad[\"Prioridad\"] = input(\"Introduzca la prioridad: \")\n",
    "            actividad[\"Estado\"] = int(input(\"\"\"Introduzca el estado:\n",
    "1.Completa\n",
    "2.Incompleta\n",
    "\"\"\"))\n",
    "            if actividad[\"Estado\"] == 2:\n",
    "                actividad[\"Estado\"] = \"Incompleta\"\n",
    "                incompletas.append(indice)\n",
    "            elif actividad[\"Estado\"] == 1:\n",
    "                actividad[\"Estado\"] = \"Completa\"\n",
    "            actividades.append(actividad)\n",
    "            indice += 1\n",
    "        print(\"Se añadio las nuevas actividades\")\n",
    "    if Seleccion == 2:\n",
    "        numero = 0\n",
    "        for i in incompletas:\n",
    "            print(f\"Actividad {i+1}. {actividades[i]}\")\n",
    "        Seleccion = int(input(\"Selecciona el numero de la tarea: \"))\n",
    "        actividades[Seleccion-1][\"Estado\"] = \"Completa\"\n",
    "        for i in incompletas:\n",
    "            if i == Seleccion-1:\n",
    "                del incompletas[i]\n",
    "    if Seleccion == 3:\n",
    "        for i in incompletas:\n",
    "            print(\"Nombre:\", actividades[i][\"Nombre\"], \"Descripcion:\", actividades[i][\"Descripcion\"], \"Prioridad:\", actividades[i][\"Prioridad\"], \"Estado:\", actividades[i][\"Estado\"])\n",
    "    if Seleccion == 4:\n",
    "        for i in actividades:\n",
    "            print(f\"\"\"Nombre: {i[\"Nombre\"]} \n",
    "            Descripcion: {i[\"Descripcion\"]}\n",
    "            Prioridad: {i[\"Prioridad\"]}\n",
    "            Estado: {i[\"Estado\"]}\"\"\")\n",
    "    if Seleccion == 5:\n",
    "        break"
   ]
  },
  {
   "cell_type": "code",
   "execution_count": 20,
   "id": "d2db084c-d7b3-45d0-8c89-5daa0c1cf2f7",
   "metadata": {},
   "outputs": [
    {
     "name": "stdin",
     "output_type": "stream",
     "text": [
      "Ingrese sus ingresos anuales:  101233\n"
     ]
    },
    {
     "name": "stdout",
     "output_type": "stream",
     "text": [
      "\n",
      "Sus ingresos son 101233.00 Bs al año\n",
      "Se le impone un total de una tasa de 0.25, siendo su pago de impuestos de 25308.25 Bs\n",
      "Por lo que sus ingresos netos son: 75924.75 Bs\n"
     ]
    }
   ],
   "source": [
    "#CALCULO DE IMPUESTOS\n",
    "ingresos_anuales = int(input(\"Ingrese sus ingresos anuales: \"))\n",
    "if ingresos_anuales <= 30000:\n",
    "    IRP = 0.13\n",
    "elif ingresos_anuales <= 60000:\n",
    "    IRP = 0.20\n",
    "elif ingresos_anuales <= 120000:\n",
    "    IRP = 0.25\n",
    "elif ingresos_anuales <= 300000:\n",
    "    IRP = 0.30\n",
    "else:\n",
    "    IRP = 0.35\n",
    "impuestos_anuales = ingresos_anuales*IRP\n",
    "print(f\"\"\"\n",
    "Sus ingresos son {ingresos_anuales:.2f} Bs al año\n",
    "Se le impone un total de una tasa de {IRP}, siendo su pago de impuestos de {impuestos_anuales:.2f} Bs\n",
    "Por lo que sus ingresos netos son: {(ingresos_anuales-impuestos_anuales):.2f} Bs\"\"\")"
   ]
  },
  {
   "cell_type": "code",
   "execution_count": 23,
   "id": "6da4161e-ec58-4fac-9fcc-7500823dbe1a",
   "metadata": {},
   "outputs": [
    {
     "name": "stdin",
     "output_type": "stream",
     "text": [
      "------------------------------------\n",
      "Seleccione la opcion requerida:\n",
      "1. Planificar un viaje\n",
      "2. Mostrar los viajes\n",
      "3. Cerrar Programa\n",
      " 1\n",
      "Ingrese el numero de la cantidad de viajes a registrar:  1\n",
      "Ingrese el destino:  Madrid\n",
      "Ingrese la fecha de viaje:  12-04\n",
      "Ingrese la cantidad del presupuesto en dolares:  400\n",
      "------------------------------------\n",
      "Seleccione la opcion requerida:\n",
      "1. Planificar un viaje\n",
      "2. Mostrar los viajes\n",
      "3. Cerrar Programa\n",
      " 2\n"
     ]
    },
    {
     "name": "stdout",
     "output_type": "stream",
     "text": [
      "1. Viaje a Madrid, el 12-04, con un presupuesto de 400\n"
     ]
    },
    {
     "name": "stdin",
     "output_type": "stream",
     "text": [
      "\n",
      "Seleccione la opcion requerida:\n",
      "1. Volver atras\n",
      "2. Sugerencia para algun viaje\n",
      " 2\n",
      "Seleccione el indice del viaje: 1\n",
      "Para el viaje a Madrid, el 12-04, con un presupuesto de 400 dolares\n",
      "Escoja alguna preferencia de actividad:\n",
      "            1.Explorar la naturaleza\n",
      "            2.Conocer la historia\n",
      "            3.Comida\n",
      "             3\n"
     ]
    },
    {
     "name": "stdout",
     "output_type": "stream",
     "text": [
      "Cena en restaurantes elegantes con cocina local, participa en clases de cocina en restaurantes interactivos\n"
     ]
    }
   ],
   "source": [
    "#PLANIFICACION DE VIAJES\n",
    "viajes = []\n",
    "numero = 0\n",
    "sugerencias_1= [\"Visitar parques locales, caminatas por senderos y un picnic\", \"Visita momentos y lugares historicos, recorre calles antiguas para ver su arquitectura\", \"Visita puestos callejeros, mercados locales y restaurantes locales economicos\"]\n",
    "sugerencias_2= [\"Realizar un tour guiado por un parque nacional, alquilar bicicletas para explorar, observar animales locales\", \"Realiza un tour guiado por por museos, sitios historicos, arqueologicos\", \"Prueba platos tradicionales en restaurantes populares, participa en tours gastronomicos\"]\n",
    "sugerencias_3= [\"Toma una excursion de varios dias con guia por una region natural, si el lugar lo permite haz rafting, escalada, etc\", \"Contrata un guia privado y realiza excursiones exclusivas\", \"Cena en restaurantes elegantes con cocina local, participa en clases de cocina en restaurantes interactivos\"]\n",
    "class viaje:\n",
    "    def __init__ (self):\n",
    "        self.destino = input(\"Ingrese el destino: \")\n",
    "        self.fecha = input(\"Ingrese la fecha de viaje: \")\n",
    "        self.presupuesto = int(input(\"Ingrese la cantidad del presupuesto en dolares: \"))\n",
    "    pass\n",
    "while True:\n",
    "    seleccion = int(input(\"\"\"------------------------------------\n",
    "Seleccione la opcion requerida:\n",
    "1. Planificar un viaje\n",
    "2. Mostrar los viajes\n",
    "3. Cerrar Programa\n",
    "\"\"\"))\n",
    "    if seleccion == 1:\n",
    "        Cantidad = int(input(\"Ingrese el numero de la cantidad de viajes a registrar: \"))\n",
    "        for i in range(0, Cantidad):\n",
    "            viajes.append(numero)\n",
    "            viajes[numero] = viaje()\n",
    "            numero += 1\n",
    "    if seleccion == 2:\n",
    "        indice = 0\n",
    "        for i in viajes:\n",
    "            print(f\"{indice+1}. Viaje a {i.destino}, el {i.fecha}, con un presupuesto de {i.presupuesto}\")\n",
    "            indice +=1\n",
    "        seleccion = int(input(\"\"\"\n",
    "Seleccione la opcion requerida:\n",
    "1. Volver atras\n",
    "2. Sugerencia para algun viaje\n",
    "\"\"\"))\n",
    "        if seleccion == 2:\n",
    "            seleccion = int(input(\"Seleccione el indice del viaje:\"))\n",
    "            seleccion = int(input(f\"\"\"Para el viaje a {viajes[seleccion-1].destino}, el {viajes[seleccion-1].fecha}, con un presupuesto de {viajes[seleccion-1].presupuesto} dolares\n",
    "Escoja alguna preferencia de actividad:\n",
    "            1.Explorar la naturaleza\n",
    "            2.Conocer la historia\n",
    "            3.Comida\n",
    "            \"\"\"))\n",
    "            if i.presupuesto <= 100:\n",
    "                print(sugerencias_1[seleccion-1])\n",
    "            elif i.presupuesto <= 300:\n",
    "                print(sugerencias_2[seleccion-1])\n",
    "            else:\n",
    "                print(sugerencias_3[seleccion-1])\n",
    "    if seleccion == 3:\n",
    "        break"
   ]
  },
  {
   "cell_type": "code",
   "execution_count": 24,
   "id": "c0cc4efc-0fc3-4685-ac15-e6d7ed07cbe9",
   "metadata": {},
   "outputs": [
    {
     "name": "stdin",
     "output_type": "stream",
     "text": [
      "------------------------------------\n",
      "Seleccione la opcion requerida:\n",
      "1. Registrar una tarea\n",
      "2. Marcar como completada\n",
      "3. Tareas pendientes\n",
      "4. Tareas\n",
      "5. Cerrar programa\n",
      " 1\n",
      "Escriba cuantos tareas desea añadir:  2\n",
      "Introduzca el nombre de la tarea:  Lavar\n",
      "Introduzca la fecha limite:  12-04\n",
      "Introduzca el estado:\n",
      "1.Completa\n",
      "2.Incompleta\n",
      " 2\n",
      "Introduzca el nombre de la tarea:  Correr\n",
      "Introduzca la fecha limite:  11-04\n",
      "Introduzca el estado:\n",
      "1.Completa\n",
      "2.Incompleta\n",
      " 1\n"
     ]
    },
    {
     "name": "stdout",
     "output_type": "stream",
     "text": [
      "Se añadio las nuevas tareas\n"
     ]
    },
    {
     "name": "stdin",
     "output_type": "stream",
     "text": [
      "------------------------------------\n",
      "Seleccione la opcion requerida:\n",
      "1. Registrar una tarea\n",
      "2. Marcar como completada\n",
      "3. Tareas pendientes\n",
      "4. Tareas\n",
      "5. Cerrar programa\n",
      " 4\n"
     ]
    },
    {
     "name": "stdout",
     "output_type": "stream",
     "text": [
      "Tarea: Lavar Fecha: 12-04 Estado: Incompleta\n",
      "Tarea: Correr Fecha: 11-04 Estado: Completa\n"
     ]
    },
    {
     "name": "stdin",
     "output_type": "stream",
     "text": [
      "------------------------------------\n",
      "Seleccione la opcion requerida:\n",
      "1. Registrar una tarea\n",
      "2. Marcar como completada\n",
      "3. Tareas pendientes\n",
      "4. Tareas\n",
      "5. Cerrar programa\n",
      " 3\n"
     ]
    },
    {
     "name": "stdout",
     "output_type": "stream",
     "text": [
      "Tarea: Lavar Fecha: 12-04 Estado:  Incompleta\n"
     ]
    },
    {
     "name": "stdin",
     "output_type": "stream",
     "text": [
      "------------------------------------\n",
      "Seleccione la opcion requerida:\n",
      "1. Registrar una tarea\n",
      "2. Marcar como completada\n",
      "3. Tareas pendientes\n",
      "4. Tareas\n",
      "5. Cerrar programa\n",
      " 2\n"
     ]
    },
    {
     "name": "stdout",
     "output_type": "stream",
     "text": [
      "Tarea 1. {'Nombre': 'Lavar', 'Fecha': '12-04', 'Estado': 'Incompleta'}\n"
     ]
    },
    {
     "name": "stdin",
     "output_type": "stream",
     "text": [
      "Selecciona el numero de la tarea:  1\n",
      "------------------------------------\n",
      "Seleccione la opcion requerida:\n",
      "1. Registrar una tarea\n",
      "2. Marcar como completada\n",
      "3. Tareas pendientes\n",
      "4. Tareas\n",
      "5. Cerrar programa\n",
      " 5\n"
     ]
    }
   ],
   "source": [
    "#GESTION DE TAREAS PENDIENTES\n",
    "tareas = []\n",
    "incompletas = []\n",
    "indice = 0\n",
    "while True:\n",
    "    Seleccion = int(input(\"\"\"------------------------------------\n",
    "Seleccione la opcion requerida:\n",
    "1. Registrar una tarea\n",
    "2. Marcar como completada\n",
    "3. Tareas pendientes\n",
    "4. Tareas\n",
    "5. Cerrar programa\n",
    "\"\"\"))\n",
    "    if Seleccion == 1:\n",
    "        Cantidad = int(input(\"Escriba cuantos tareas desea añadir: \"))\n",
    "        for i in range(0, Cantidad):\n",
    "            tarea = {\"Nombre\":None, \"Fecha\":None, \"Estado\":None}\n",
    "            tarea[\"Nombre\"] = input(\"Introduzca el nombre de la tarea: \")\n",
    "            tarea[\"Fecha\"] = input(\"Introduzca la fecha limite: \")\n",
    "            tarea[\"Estado\"] = int(input(\"\"\"Introduzca el estado:\n",
    "1.Completa\n",
    "2.Incompleta\n",
    "\"\"\"))\n",
    "            if tarea[\"Estado\"] == 2:\n",
    "                tarea[\"Estado\"] = \"Incompleta\"\n",
    "                incompletas.append(indice)\n",
    "            elif tarea[\"Estado\"] == 1:\n",
    "                tarea[\"Estado\"] = \"Completa\"\n",
    "            tareas.append(tarea)\n",
    "            indice += 1\n",
    "        print(\"Se añadio las nuevas tareas\")\n",
    "    if Seleccion == 2:\n",
    "        numero = 0\n",
    "        for i in incompletas:\n",
    "            print(f\"Tarea {i+1}. {tareas[i]}\")\n",
    "        Seleccion = int(input(\"Selecciona el numero de la tarea: \"))\n",
    "        tareas[Seleccion-1][\"Estado\"] = \"Completa\"\n",
    "        for i in incompletas:\n",
    "            if i == Seleccion-1:\n",
    "                del incompletas[i]\n",
    "    if Seleccion == 3:\n",
    "        for i in incompletas:\n",
    "            print(\"Tarea:\", tareas[i][\"Nombre\"], \"Fecha:\", tareas[i][\"Fecha\"], \"Estado: \", tareas[i][\"Estado\"])\n",
    "    if Seleccion == 4:\n",
    "        for i in tareas:\n",
    "            print(\"Tarea:\", i[\"Nombre\"], \"Fecha:\", i[\"Fecha\"], \"Estado:\", i[\"Estado\"])\n",
    "    if Seleccion == 5:\n",
    "        break"
   ]
  },
  {
   "cell_type": "code",
   "execution_count": 28,
   "id": "8e365387-53e0-4858-b7fa-f0d0eb953667",
   "metadata": {},
   "outputs": [
    {
     "name": "stdin",
     "output_type": "stream",
     "text": [
      "------------------------------------\n",
      "Seleccione la opcion requerida:\n",
      "1. Registrar un estudiante\n",
      "2. Resumen de notas\n",
      "3. Cerrar programa\n",
      " 1\n",
      "Introduzca la cantidad de estudiantes a registrar:  2\n",
      "\n",
      "Introduzca el nombre:  Pedro\n",
      "Introduzca la cantidad de materias a registrar:  2\n",
      "Ingrese el nombre de la materia:  Filosofia\n",
      "Introduzca la nota:  79\n",
      "Ingrese el nombre de la materia:  Fisica\n",
      "Introduzca la nota:  83\n",
      "\n",
      "Introduzca el nombre:  Pepito\n",
      "Introduzca la cantidad de materias a registrar:  1\n",
      "Ingrese el nombre de la materia:  Matematicas\n",
      "Introduzca la nota:  99\n",
      "------------------------------------\n",
      "Seleccione la opcion requerida:\n",
      "1. Registrar un estudiante\n",
      "2. Resumen de notas\n",
      "3. Cerrar programa\n",
      " 2\n"
     ]
    },
    {
     "name": "stdout",
     "output_type": "stream",
     "text": [
      "Estudiante Pedro\n",
      "Filosofia: 79\n",
      "Fisica: 83\n",
      "Su promedio es 81.0\n",
      "\n",
      "Estudiante Pepito\n",
      "Matematicas: 99\n",
      "Su promedio es 99.0\n",
      "\n"
     ]
    },
    {
     "name": "stdin",
     "output_type": "stream",
     "text": [
      "------------------------------------\n",
      "Seleccione la opcion requerida:\n",
      "1. Registrar un estudiante\n",
      "2. Resumen de notas\n",
      "3. Cerrar programa\n",
      " 3\n"
     ]
    }
   ],
   "source": [
    "#CONTROL DE CALIFICACIONES ESCOLARES\n",
    "estudiantes = []\n",
    "cantidad_actual = 0\n",
    "numero = 0\n",
    "\n",
    "class estudiante:\n",
    "    def __init__(self):\n",
    "        self.nombre = input(\"\"\"\n",
    "Introduzca el nombre: \"\"\")\n",
    "        self.notas = {}\n",
    "    def agregar_notas(self):\n",
    "         materia = input(\"Ingrese el nombre de la materia: \")\n",
    "         nota = int(input(\"Introduzca la nota: \"))\n",
    "         self.notas[materia] = nota\n",
    "    def mostrar_notas(self):\n",
    "        for asignatura, notas in self.notas.items():\n",
    "            print(f\"{asignatura}: {notas}\")\n",
    "    def mostrar_promedio(self):\n",
    "        promedio = sum(self.notas.values())/len(self.notas)\n",
    "        print(f\"Su promedio es {promedio}\")\n",
    "        \n",
    "while True:\n",
    "    seleccion = int(input(\"\"\"------------------------------------\n",
    "Seleccione la opcion requerida:\n",
    "1. Registrar un estudiante\n",
    "2. Resumen de notas\n",
    "3. Cerrar programa\n",
    "\"\"\"))\n",
    "    if seleccion == 1:\n",
    "        cantidad_estudiantes = int(input(\"Introduzca la cantidad de estudiantes a registrar: \"))\n",
    "        for i in range(cantidad_actual, cantidad_estudiantes+cantidad_actual):\n",
    "            estudiantes.append(numero)\n",
    "            estudiantes[numero] = estudiante()\n",
    "            \n",
    "            cantidad_materias = int(input(\"Introduzca la cantidad de materias a registrar: \"))\n",
    "            for i in range(0, cantidad_materias):\n",
    "                estudiantes[numero].agregar_notas()\n",
    "            numero += 1\n",
    "        cantidad_actual = cantidad_estudiantes\n",
    "        cantidad_estudiantes = 0\n",
    "        cantidad_materias = 0\n",
    "    if seleccion == 2:\n",
    "        for i in estudiantes:\n",
    "            print(f\"Estudiante {i.nombre}\")\n",
    "            i.mostrar_notas()\n",
    "            i.mostrar_promedio()\n",
    "            print(\"\")\n",
    "    if seleccion == 3:\n",
    "        break\n"
   ]
  },
  {
   "cell_type": "code",
   "execution_count": 33,
   "id": "bbd3d8b7-3c78-4ba8-b03e-90da721c0f44",
   "metadata": {},
   "outputs": [
    {
     "name": "stdin",
     "output_type": "stream",
     "text": [
      "------------------------------------\n",
      "Seleccione la opcion requerida:\n",
      "1. Añadir categoria\n",
      "2. Eliminar categoria\n",
      "3. Registrar gastos diarios\n",
      "4. Resumen de gastos\n",
      "5. Cerrar programa\n",
      " 1\n"
     ]
    },
    {
     "name": "stdout",
     "output_type": "stream",
     "text": [
      "Cuentas con 0 categorias registradas\n"
     ]
    },
    {
     "name": "stdin",
     "output_type": "stream",
     "text": [
      "Ingrese la cantidad de categorias a añadir:  3\n",
      "Añade el nombre a la categoria:  Comida\n",
      "Añade el nombre a la categoria:  Renta\n",
      "Añade el nombre a la categoria:  Servicios\n"
     ]
    },
    {
     "name": "stdout",
     "output_type": "stream",
     "text": [
      "Se añadieron las categorias\n"
     ]
    },
    {
     "name": "stdin",
     "output_type": "stream",
     "text": [
      "------------------------------------\n",
      "Seleccione la opcion requerida:\n",
      "1. Añadir categoria\n",
      "2. Eliminar categoria\n",
      "3. Registrar gastos diarios\n",
      "4. Resumen de gastos\n",
      "5. Cerrar programa\n",
      " 3\n",
      "Introduzca el monto gastado en Comida:  100\n",
      "Introduzca el monto gastado en Renta:  2000\n",
      "Introduzca el monto gastado en Servicios:  12\n",
      "------------------------------------\n",
      "Seleccione la opcion requerida:\n",
      "1. Añadir categoria\n",
      "2. Eliminar categoria\n",
      "3. Registrar gastos diarios\n",
      "4. Resumen de gastos\n",
      "5. Cerrar programa\n",
      " 3\n",
      "Introduzca el monto gastado en Comida:  101\n",
      "Introduzca el monto gastado en Renta:  0\n",
      "Introduzca el monto gastado en Servicios:  32\n",
      "------------------------------------\n",
      "Seleccione la opcion requerida:\n",
      "1. Añadir categoria\n",
      "2. Eliminar categoria\n",
      "3. Registrar gastos diarios\n",
      "4. Resumen de gastos\n",
      "5. Cerrar programa\n",
      " 3\n",
      "Introduzca el monto gastado en Comida:  98\n",
      "Introduzca el monto gastado en Renta:  0\n",
      "Introduzca el monto gastado en Servicios:  9\n",
      "------------------------------------\n",
      "Seleccione la opcion requerida:\n",
      "1. Añadir categoria\n",
      "2. Eliminar categoria\n",
      "3. Registrar gastos diarios\n",
      "4. Resumen de gastos\n",
      "5. Cerrar programa\n",
      " 4\n"
     ]
    },
    {
     "name": "stdout",
     "output_type": "stream",
     "text": [
      "\n",
      "En la categoria Comida se han realizado los siguientes gastos diarios: \n",
      "100\n",
      "101\n",
      "98\n",
      "Siendo un total de 299\n",
      "\n",
      "En la categoria Renta se han realizado los siguientes gastos diarios: \n",
      "2000\n",
      "0\n",
      "0\n",
      "Siendo un total de 2000\n",
      "\n",
      "En la categoria Servicios se han realizado los siguientes gastos diarios: \n",
      "12\n",
      "32\n",
      "9\n",
      "Siendo un total de 53\n",
      "Se ha realizado en un total de  3  dias\n"
     ]
    },
    {
     "name": "stdin",
     "output_type": "stream",
     "text": [
      "------------------------------------\n",
      "Seleccione la opcion requerida:\n",
      "1. Añadir categoria\n",
      "2. Eliminar categoria\n",
      "3. Registrar gastos diarios\n",
      "4. Resumen de gastos\n",
      "5. Cerrar programa\n",
      " 2\n"
     ]
    },
    {
     "name": "stdout",
     "output_type": "stream",
     "text": [
      "1. Comida\n",
      "1. Renta\n",
      "1. Servicios\n"
     ]
    },
    {
     "name": "stdin",
     "output_type": "stream",
     "text": [
      "Escribe el NOMBRE de la categoria para borrar:  Renta\n",
      "------------------------------------\n",
      "Seleccione la opcion requerida:\n",
      "1. Añadir categoria\n",
      "2. Eliminar categoria\n",
      "3. Registrar gastos diarios\n",
      "4. Resumen de gastos\n",
      "5. Cerrar programa\n",
      " 5\n"
     ]
    }
   ],
   "source": [
    "#SEGUIMIENTO DE GASTOS PERSONALES\n",
    "indice = 0\n",
    "categoria = {}\n",
    "dia = 0\n",
    "\n",
    "class compras:\n",
    "    def __init__(self):\n",
    "        self.nombre = input(\"Nombra la categoria\")\n",
    "        self.categoria = self.nombre.upper()\n",
    "        self.gasto = int(input(\"Ingresa la cantidad gastada en esta categoria\"))\n",
    "\n",
    "\n",
    "while True:\n",
    "    seleccion = int(input(\"\"\"------------------------------------\n",
    "Seleccione la opcion requerida:\n",
    "1. Añadir categoria\n",
    "2. Eliminar categoria\n",
    "3. Registrar gastos diarios\n",
    "4. Resumen de gastos\n",
    "5. Cerrar programa\n",
    "\"\"\"))\n",
    "    if seleccion == 1:\n",
    "        indice = 0\n",
    "        print(f\"Cuentas con {len(categoria)} categorias registradas\")\n",
    "        for i in categoria:\n",
    "            print(f\"{indice+1}. {i}\")\n",
    "            indice += 1\n",
    "        cantidad_añadir = int(input(\"Ingrese la cantidad de categorias a añadir: \"))\n",
    "        \n",
    "        for indice in range(0, cantidad_añadir):\n",
    "            categoria[input(\"Añade el nombre a la categoria: \")] = []\n",
    "        print(\"Se añadieron las categorias\")\n",
    "        \n",
    "    if seleccion == 2:\n",
    "        indice = 0\n",
    "        for i in categoria:\n",
    "            print(f\"{indice+1}. {i}\")\n",
    "        if len(categoria) != 0:\n",
    "            seleccion = input(\"Escribe el NOMBRE de la categoria para borrar: \")\n",
    "            del categoria[seleccion] \n",
    "    if seleccion == 3:\n",
    "        for i in categoria:\n",
    "            compra = int(input(f\"Introduzca el monto gastado en {i}: \"))\n",
    "            categoria[i].append(compra)\n",
    "            compra = 0\n",
    "        dia += 1\n",
    "    if seleccion == 4:\n",
    "        for i in categoria:\n",
    "            print(f\"\"\"\n",
    "En la categoria {i} se han realizado los siguientes gastos diarios: \"\"\")\n",
    "            for e in categoria[i]:\n",
    "                print(e)\n",
    "            print(f\"Siendo un total de {sum(categoria[i])}\")\n",
    "        print(\"Se ha realizado en un total de \", dia, \" dias\")\n",
    "    if seleccion == 5:\n",
    "        break"
   ]
  },
  {
   "cell_type": "code",
   "execution_count": 34,
   "id": "899613d6-cf87-4469-a22d-4be2afa69dee",
   "metadata": {},
   "outputs": [
    {
     "name": "stdin",
     "output_type": "stream",
     "text": [
      "------------------------------------\n",
      "Seleccione la opcion requerida:\n",
      "1. Reservar habitacion\n",
      "2. Cancelar reservas\n",
      "3. Reservas actuales\n",
      "4. Cerrar programa\n",
      " 1\n",
      "Ingresa el nombre del huesped:  Pedro\n",
      "Ingresa la fecha de entrada (xx-xx): 04-03\n",
      "Ingresa la fecha de salida (xx-xx): 05-03\n",
      "------------------------------------\n",
      "Seleccione la opcion requerida:\n",
      "1. Reservar habitacion\n",
      "2. Cancelar reservas\n",
      "3. Reservas actuales\n",
      "4. Cerrar programa\n",
      " 1\n",
      "Ingresa el nombre del huesped:  Popi\n",
      "Ingresa la fecha de entrada (xx-xx): 08-01\n",
      "Ingresa la fecha de salida (xx-xx): 10-01\n",
      "------------------------------------\n",
      "Seleccione la opcion requerida:\n",
      "1. Reservar habitacion\n",
      "2. Cancelar reservas\n",
      "3. Reservas actuales\n",
      "4. Cerrar programa\n",
      " 3\n"
     ]
    },
    {
     "name": "stdout",
     "output_type": "stream",
     "text": [
      "\n",
      "RESERVA NUMERO 1\n",
      "Nombre: Pedro\n",
      "Check-in: 04-03\n",
      "Check-out: 05-03\n",
      "\n",
      "RESERVA NUMERO 2\n",
      "Nombre: Popi\n",
      "Check-in: 08-01\n",
      "Check-out: 10-01\n"
     ]
    },
    {
     "name": "stdin",
     "output_type": "stream",
     "text": [
      "------------------------------------\n",
      "Seleccione la opcion requerida:\n",
      "1. Reservar habitacion\n",
      "2. Cancelar reservas\n",
      "3. Reservas actuales\n",
      "4. Cerrar programa\n",
      " 2\n"
     ]
    },
    {
     "name": "stdout",
     "output_type": "stream",
     "text": [
      "\n",
      "Reserva numero 1\n",
      "Nombre: Pedro\n",
      "Check-in: 04-03\n",
      "Check-out: 05-03\n",
      "\n",
      "Reserva numero 2\n",
      "Nombre: Popi\n",
      "Check-in: 08-01\n",
      "Check-out: 10-01\n"
     ]
    },
    {
     "name": "stdin",
     "output_type": "stream",
     "text": [
      "Escribe el numero de la reserva para cancelarla:  1\n",
      "------------------------------------\n",
      "Seleccione la opcion requerida:\n",
      "1. Reservar habitacion\n",
      "2. Cancelar reservas\n",
      "3. Reservas actuales\n",
      "4. Cerrar programa\n",
      " 3\n"
     ]
    },
    {
     "name": "stdout",
     "output_type": "stream",
     "text": [
      "\n",
      "RESERVA NUMERO 1\n",
      "Nombre: Popi\n",
      "Check-in: 08-01\n",
      "Check-out: 10-01\n"
     ]
    },
    {
     "name": "stdin",
     "output_type": "stream",
     "text": [
      "------------------------------------\n",
      "Seleccione la opcion requerida:\n",
      "1. Reservar habitacion\n",
      "2. Cancelar reservas\n",
      "3. Reservas actuales\n",
      "4. Cerrar programa\n",
      " 4\n"
     ]
    }
   ],
   "source": [
    "#ADMINISTRACION DE RESERVAS DE HOTEL\n",
    "reservas = []\n",
    "numero = 0\n",
    "class reserva:\n",
    "    def __init__(self):\n",
    "        self.nombre = input(\"Ingresa el nombre del huesped: \")\n",
    "        self.fecha_ingreso = input(\"Ingresa la fecha de entrada (xx-xx):\")\n",
    "        self.fecha_salida = input(\"Ingresa la fecha de salida (xx-xx):\")\n",
    "    def informacion(self):\n",
    "        print(f\"\"\"Nombre: {self.nombre}\n",
    "Check-in: {self.fecha_ingreso}\n",
    "Check-out: {self.fecha_salida}\"\"\")\n",
    "while True:\n",
    "    seleccion = int(input(\"\"\"------------------------------------\n",
    "Seleccione la opcion requerida:\n",
    "1. Reservar habitacion\n",
    "2. Cancelar reservas\n",
    "3. Reservas actuales\n",
    "4. Cerrar programa\n",
    "\"\"\"))\n",
    "    if seleccion == 1:\n",
    "        reservas.append(numero)\n",
    "        reservas[numero] = reserva()\n",
    "        numero += 1\n",
    "    if seleccion == 2:\n",
    "        indice = 0\n",
    "        for i in reservas:\n",
    "            print(f\"\"\"\n",
    "Reserva numero {indice+1}\"\"\")\n",
    "            i.informacion()\n",
    "            indice += 1\n",
    "        seleccion = int(input(\"Escribe el numero de la reserva para cancelarla: \"))\n",
    "        del reservas[seleccion-1]\n",
    "    if seleccion == 3:\n",
    "        indice = 0\n",
    "        for i in reservas:\n",
    "            print(f\"\"\"\n",
    "RESERVA NUMERO {indice+1}\"\"\")\n",
    "            i.informacion()\n",
    "            indice += 1\n",
    "    if seleccion == 4:\n",
    "        break"
   ]
  },
  {
   "cell_type": "code",
   "execution_count": null,
   "id": "ded38b5b-ecc3-4f99-93f4-1cc5110ab2ae",
   "metadata": {},
   "outputs": [],
   "source": []
  }
 ],
 "metadata": {
  "kernelspec": {
   "display_name": "Python 3 (ipykernel)",
   "language": "python",
   "name": "python3"
  },
  "language_info": {
   "codemirror_mode": {
    "name": "ipython",
    "version": 3
   },
   "file_extension": ".py",
   "mimetype": "text/x-python",
   "name": "python",
   "nbconvert_exporter": "python",
   "pygments_lexer": "ipython3",
   "version": "3.11.7"
  }
 },
 "nbformat": 4,
 "nbformat_minor": 5
}
